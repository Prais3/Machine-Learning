{
 "cells": [
  {
   "cell_type": "code",
   "execution_count": 41,
   "metadata": {},
   "outputs": [
    {
     "name": "stdout",
     "output_type": "stream",
     "text": [
      "[[-0.57735027+0.j         -0.48264869-0.47318005j -0.48264869+0.47318005j]\n",
      " [-0.57735027+0.j         -0.10378597+0.23659003j -0.10378597-0.23659003j]\n",
      " [-0.57735027+0.j         -0.69022062+0.j         -0.69022062-0.j        ]]\n",
      "[[4.+0.0000000e+00j 0.+0.0000000e+00j 0.+0.0000000e+00j]\n",
      " [0.+0.0000000e+00j 2.+4.4408921e-16j 0.+0.0000000e+00j]\n",
      " [0.+0.0000000e+00j 0.+0.0000000e+00j 2.-4.4408921e-16j]]\n",
      "[[-0.40824829+0.j         -0.42295663+0.35410429j -0.42295663-0.35410429j]\n",
      " [-0.81649658+0.j         -0.27886944-0.35410429j -0.27886944+0.35410429j]\n",
      " [ 0.40824829+0.j          0.70182607+0.j          0.70182607-0.j        ]]\n"
     ]
    }
   ],
   "source": [
    "# Final explanation is in the end, and below is the process to solve the matrix\n",
    "import numpy as np\n",
    "import scipy as sp\n",
    "from scipy import linalg\n",
    "\n",
    "X = np.array([[3, 1, 1], [2, 4, 2], [-1, -1, 1]])\n",
    "(v, l, r) = linalg.eig(X, left=True)\n",
    "v = sp.diag(v)\n",
    "print(l)\n",
    "print(v)\n",
    "print(r)"
   ]
  },
  {
   "cell_type": "code",
   "execution_count": 42,
   "metadata": {},
   "outputs": [
    {
     "name": "stdout",
     "output_type": "stream",
     "text": [
      "[[ 4.00000000e+00-2.21867130e-31j  4.44089210e-16+7.17099443e-16j\n",
      "   4.44089210e-16-3.93123581e-16j]\n",
      " [-4.44089210e-16-7.21644966e-16j  2.00000000e+00-2.22044605e-16j\n",
      "   0.00000000e+00-2.22044605e-16j]\n",
      " [-3.33066907e-16+7.21644966e-16j  0.00000000e+00-1.11022302e-16j\n",
      "   2.00000000e+00-2.22044605e-16j]]\n"
     ]
    }
   ],
   "source": [
    "print(linalg.inv(r)@X@r)"
   ]
  },
  {
   "cell_type": "code",
   "execution_count": 43,
   "metadata": {},
   "outputs": [
    {
     "data": {
      "text/plain": [
       "array([[ 4.00000000e+00+0.00000000e+00j,  6.44587477e-16+9.80585855e-16j,\n",
       "         6.44587477e-16-9.80585855e-16j],\n",
       "       [-6.36934564e-16-6.52129663e-16j,  2.00000000e+00+2.07453826e-16j,\n",
       "         0.00000000e+00+1.85185536e-16j],\n",
       "       [-6.36934564e-16+6.52129663e-16j,  0.00000000e+00-1.85185536e-16j,\n",
       "         2.00000000e+00-2.07453826e-16j]])"
      ]
     },
     "execution_count": 43,
     "metadata": {},
     "output_type": "execute_result"
    }
   ],
   "source": [
    "linalg.solve(r, X)@r"
   ]
  },
  {
   "cell_type": "code",
   "execution_count": 44,
   "metadata": {},
   "outputs": [
    {
     "data": {
      "text/plain": [
       "array([[ 3.-2.22044605e-16j,  1.-1.21430643e-16j,  1.-2.22044605e-16j],\n",
       "       [ 2.+5.55111512e-17j,  4.-1.66533454e-16j,  2.-3.33066907e-16j],\n",
       "       [-1.+0.00000000e+00j, -1.+0.00000000e+00j,  1.+0.00000000e+00j]])"
      ]
     },
     "execution_count": 44,
     "metadata": {},
     "output_type": "execute_result"
    }
   ],
   "source": [
    "r@v@linalg.inv(r)"
   ]
  },
  {
   "cell_type": "code",
   "execution_count": null,
   "metadata": {},
   "outputs": [],
   "source": [
    "# Thus above is the reconstructed original matrix X from the eigenvalues and eigenvectors\n",
    "\n",
    "# The difference between the two matrices is the value or error bound, if we can call it that\n",
    "# generally in optimization called actual vs predicted data. The values have a bit off an offset\n",
    "# since the reconstruction makes that happen as a number of values are shifted and changed a lot\n",
    "# during the process."
   ]
  }
 ],
 "metadata": {
  "kernelspec": {
   "display_name": "Python 3",
   "language": "python",
   "name": "python3"
  },
  "language_info": {
   "codemirror_mode": {
    "name": "ipython",
    "version": 3
   },
   "file_extension": ".py",
   "mimetype": "text/x-python",
   "name": "python",
   "nbconvert_exporter": "python",
   "pygments_lexer": "ipython3",
   "version": "3.7.4"
  }
 },
 "nbformat": 4,
 "nbformat_minor": 2
}
