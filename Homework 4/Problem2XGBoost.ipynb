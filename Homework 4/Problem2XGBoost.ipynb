{
 "cells": [
  {
   "cell_type": "code",
   "execution_count": 47,
   "metadata": {},
   "outputs": [
    {
     "name": "stdout",
     "output_type": "stream",
     "text": [
      "Accuracy: 84.63%\n"
     ]
    }
   ],
   "source": [
    "from sklearn.model_selection import train_test_split\n",
    "from sklearn.datasets import load_svmlight_file\n",
    "from sklearn.metrics import accuracy_score\n",
    "from xgboost import XGBClassifier\n",
    "\n",
    "X_data, y_data = load_svmlight_file(\"/home/praise_1906/Downloads/Homework 4/Homework 4/a9a.txt\")\n",
    "X_res, y_res = load_svmlight_file(\"/home/praise_1906/Downloads/Homework 4/Homework 4/a9a.t\")\n",
    "\n",
    "# Using train-test split to split the dataset\n",
    "X_train, X_test, y_train, y_test = train_test_split(X_data, y_data, test_size =\n",
    "                                                    0.2, random_state = 0)\n",
    "\n",
    "# Answer to question number 4 of problem 4 is below:\n",
    "# other models I tried:\n",
    "\n",
    "# Accuracy = 84.34%\n",
    "#xg_model = XGBClassifier(learning_rate=0.1, max_depth=4, \n",
    "#                         missing=None, n_estimators=100,\n",
    "#                         objective='reg:squarederror', reg_lambda=1)\n",
    "\n",
    "# Accuracy = 83.31%\n",
    "#xg_model = XGBClassifier(learning_rate=0.1, max_depth=1, \n",
    "#                         missing=None, n_estimators=100,\n",
    "#                         objective='reg:squarederror', reg_lambda=1)\n",
    "\n",
    "# Accuracy = 84.39%\n",
    "#xg_model = XGBClassifier(learning_rate=0.2, max_depth=4, \n",
    "#                         missing=None, n_estimators=100,\n",
    "#                         objective='reg:squaredlogerror', reg_lambda=1)\n",
    "\n",
    "# Accuracy = 84.49%\n",
    "#xg_model = XGBClassifier(learning_rate=0.2, max_depth=4, \n",
    "#                         missing=None, n_estimators=100,\n",
    "#                         objective='binary:logistic', reg_lambda=1)\n",
    "\n",
    "# Accuracy = 84.58%\n",
    "#xg_model = XGBClassifier(learning_rate=0.5, max_depth=4, \n",
    "#                         missing=None, n_estimators=150,\n",
    "#                         objective='binary:logistic', reg_lambda=2)\n",
    "\n",
    "# Accuracy = 84.54%\n",
    "#xg_model = XGBClassifier(learning_rate=0.1, max_depth=8, \n",
    "#                         missing=None, n_estimators=100,\n",
    "#                         objective='reg:logistic', reg_lambda=1)\n",
    "\n",
    "# Accuracy = %84.63\n",
    "xg_model = XGBClassifier(learning_rate=0.1, max_depth=4, \n",
    "                         missing=None, n_estimators=200,\n",
    "                         objective='binary:logistic', reg_lambda=2)\n",
    "\n",
    "xg_model.fit(X_train, y_train)\n",
    "\n",
    "y_pred = xg_model.predict(X_test)\n",
    "predictions = [round(value) for value in y_pred]\n",
    "accuracy = accuracy_score(y_test, predictions)\n",
    "print(\"Accuracy: %.2f%%\" % (accuracy * 100.0))"
   ]
  },
  {
   "cell_type": "code",
   "execution_count": 48,
   "metadata": {},
   "outputs": [
    {
     "name": "stdout",
     "output_type": "stream",
     "text": [
      "Holdout Accuracy: 84.63%\n"
     ]
    }
   ],
   "source": [
    "xg_predict = xg_model.predict(X_test)\n",
    "xg_predict = [round(value) for value in xg_predict]\n",
    "accuracy = accuracy_score(y_test, xg_predict)\n",
    "print(\"Holdout Accuracy: %.2f%%\" % (accuracy * 100.0))"
   ]
  },
  {
   "cell_type": "code",
   "execution_count": 49,
   "metadata": {},
   "outputs": [
    {
     "name": "stdout",
     "output_type": "stream",
     "text": [
      "Validation Accuracy: 85.37%\n"
     ]
    }
   ],
   "source": [
    "xg_valid_predict = xg_model.predict(X_res)\n",
    "xg_valid_predict = [round(value) for value in xg_valid_predict]\n",
    "xg_valid_accuracy = accuracy_score(y_res, xg_valid_predict)\n",
    "print(\"Validation Accuracy: %.2f%%\" % (xg_valid_accuracy * 100.0))"
   ]
  }
 ],
 "metadata": {
  "kernelspec": {
   "display_name": "Python 3",
   "language": "python",
   "name": "python3"
  },
  "language_info": {
   "codemirror_mode": {
    "name": "ipython",
    "version": 3
   },
   "file_extension": ".py",
   "mimetype": "text/x-python",
   "name": "python",
   "nbconvert_exporter": "python",
   "pygments_lexer": "ipython3",
   "version": "3.7.4"
  }
 },
 "nbformat": 4,
 "nbformat_minor": 2
}
