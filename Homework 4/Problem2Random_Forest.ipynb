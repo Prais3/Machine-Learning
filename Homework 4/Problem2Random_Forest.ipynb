{
 "cells": [
  {
   "cell_type": "code",
   "execution_count": 23,
   "metadata": {},
   "outputs": [
    {
     "name": "stdout",
     "output_type": "stream",
     "text": [
      "RF Training Accuracy: 85.83%\n"
     ]
    }
   ],
   "source": [
    "from sklearn.model_selection import train_test_split\n",
    "from sklearn.datasets import load_svmlight_file\n",
    "from sklearn.metrics import accuracy_score\n",
    "from sklearn.ensemble import RandomForestClassifier\n",
    "\n",
    "X_data, y_data = load_svmlight_file(\"/home/praise_1906/Downloads/Homework 4/Homework 4/a9a.txt\")\n",
    "X_res, y_res = load_svmlight_file(\"/home/praise_1906/Downloads/Homework 4/Homework 4/a9a.t\")\n",
    "\n",
    "# Using train-test split to split the dataset\n",
    "X_train, X_test, y_train, y_test = train_test_split(X_data, y_data, test_size =\n",
    "                                                    0.2, random_state = 0)\n",
    "\n",
    "# Answer to question number 4 of problem 4 is below:\n",
    "# other models I tried:\n",
    "\n",
    "# Accuracy = 77.93%\n",
    "#rf_model = RandomForestClassifier(bootstrap=True, max_depth=2, \n",
    "#                                  min_impurity_decrease=0.0, min_samples_leaf=1,\n",
    "#                                  n_estimators=10)\n",
    "\n",
    "# Accuracy = 80.12%\n",
    "#rf_model = RandomForestClassifier(bootstrap=True, max_depth=4, \n",
    "#                                  min_impurity_decrease=0.0, min_samples_leaf=1,\n",
    "#                                  n_estimators=10)\n",
    "\n",
    "# Accuracy = 83.26%\n",
    "#rf_model = RandomForestClassifier(bootstrap=True, max_depth=6, \n",
    "#                                  min_impurity_decrease=0.0, min_samples_leaf=1,\n",
    "#                                  n_estimators=15)\n",
    "\n",
    "# Accuracy = 84.80%\n",
    "#rf_model = RandomForestClassifier(bootstrap=True, max_depth=10, \n",
    "#                                  min_impurity_decrease=0.00, min_samples_leaf=2,\n",
    "#                                  n_estimators=15)\n",
    "\n",
    "# Accuracy = 85.83%\n",
    "rf_model = RandomForestClassifier(bootstrap=True, max_depth=15, \n",
    "                                  min_impurity_decrease=0.00001, min_samples_leaf=2,\n",
    "                                  n_estimators=15)\n",
    "\n",
    "rf_model.fit(X_train, y_train)\n",
    "\n",
    "rf_train_predict = rf_model.predict(X_train)\n",
    "rf_train_predict = [round(value) for value in rf_train_predict]\n",
    "rf_train_accuracy = accuracy_score(y_train, rf_train_predict)\n",
    "print(\"RF Training Accuracy: %.2f%%\" % (rf_train_accuracy * 100.0))"
   ]
  },
  {
   "cell_type": "code",
   "execution_count": 26,
   "metadata": {},
   "outputs": [
    {
     "name": "stdout",
     "output_type": "stream",
     "text": [
      "RF Holdout Accuracy: 83.86%\n"
     ]
    }
   ],
   "source": [
    "rf_predict = rf_model.predict(X_test)\n",
    "rf_predict = [round(value) for value in rf_predict]\n",
    "rf_accuracy = accuracy_score(y_test, rf_predict)\n",
    "print(\"RF Holdout Accuracy: %.2f%%\" % (rf_accuracy * 100.0))"
   ]
  },
  {
   "cell_type": "code",
   "execution_count": 27,
   "metadata": {},
   "outputs": [
    {
     "name": "stdout",
     "output_type": "stream",
     "text": [
      "RF Validation Accuracy: 84.29%\n"
     ]
    }
   ],
   "source": [
    "rf_valid_predict = rf_model.predict(X_res)\n",
    "rf_valid_predict = [round(value) for value in rf_valid_predict]\n",
    "rf_valid_accuracy = accuracy_score(y_res, rf_valid_predict)\n",
    "print(\"RF Validation Accuracy: %.2f%%\" % (rf_valid_accuracy * 100.0))"
   ]
  }
 ],
 "metadata": {
  "kernelspec": {
   "display_name": "Python 3",
   "language": "python",
   "name": "python3"
  },
  "language_info": {
   "codemirror_mode": {
    "name": "ipython",
    "version": 3
   },
   "file_extension": ".py",
   "mimetype": "text/x-python",
   "name": "python",
   "nbconvert_exporter": "python",
   "pygments_lexer": "ipython3",
   "version": "3.7.4"
  }
 },
 "nbformat": 4,
 "nbformat_minor": 2
}
