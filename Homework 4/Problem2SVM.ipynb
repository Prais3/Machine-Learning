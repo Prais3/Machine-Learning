{
 "cells": [
  {
   "cell_type": "code",
   "execution_count": 10,
   "metadata": {},
   "outputs": [
    {
     "name": "stdout",
     "output_type": "stream",
     "text": [
      "SVM Training Accuracy: 85.09%\n"
     ]
    }
   ],
   "source": [
    "from sklearn.model_selection import train_test_split\n",
    "from sklearn.datasets import load_svmlight_file\n",
    "from sklearn.metrics import accuracy_score\n",
    "from sklearn import svm\n",
    "\n",
    "X_data, y_data = load_svmlight_file(\"/home/praise_1906/Downloads/Homework 4/Homework 4/a9a.txt\")\n",
    "X_res, y_res = load_svmlight_file(\"/home/praise_1906/Downloads/Homework 4/Homework 4/a9a.t\")\n",
    "\n",
    "# Using train-test split to split the dataset\n",
    "X_train, X_test, y_train, y_test = train_test_split(X_data, y_data, test_size =\n",
    "                                                    0.2, random_state = 0)\n",
    "\n",
    "\n",
    "# Answer to question number 4 of problem 4 is below:\n",
    "\n",
    "# Accuracy = 84.71%\n",
    "#model_svm = svm.SVC(C = 1.0, \n",
    "#                    kernel = 'rbf', \n",
    "#                    gamma = 'auto')\n",
    "\n",
    "# Accuracy = 84.66%\n",
    "#model_svm = svm.SVC(C = 1.0, \n",
    "#                    kernel = 'sigmoid', \n",
    "#                    gamma = 'auto')\n",
    "\n",
    "# Accuracy = 76.02%\n",
    "#model_svm = svm.SVC(C = 1.0, \n",
    "#                    kernel = 'poly', \n",
    "#                    gamma = 'auto')\n",
    "\n",
    "# Accuracy = 85.08%\n",
    "#model_svm = svm.SVC(C = 1.2, \n",
    "#                    kernel = 'linear', \n",
    "#                    gamma = 'auto')\n",
    "\n",
    "# Accuracy = 85.09%\n",
    "model_svm = svm.SVC(C = 1.0, \n",
    "                    kernel = 'linear', \n",
    "                    gamma = 'auto')\n",
    "\n",
    "model_svm.fit(X_train, y_train)\n",
    "\n",
    "svm_train_predict = model_svm.predict(X_train)\n",
    "svm_train_predict = [round(value) for value in svm_train_predict]\n",
    "svm_train_accuracy = accuracy_score(y_train, svm_train_predict)\n",
    "print(\"SVM Training Accuracy: %.2f%%\" % (svm_train_accuracy * 100.0))"
   ]
  },
  {
   "cell_type": "code",
   "execution_count": 11,
   "metadata": {},
   "outputs": [
    {
     "name": "stdout",
     "output_type": "stream",
     "text": [
      "SVM Holdout Accuracy: 84.49%\n"
     ]
    }
   ],
   "source": [
    "svm_predict = model_svm.predict(X_test)\n",
    "svm_predict = [round(value) for value in svm_predict]\n",
    "svm_accuracy = accuracy_score(y_test, svm_predict)\n",
    "print(\"SVM Holdout Accuracy: %.2f%%\" % (svm_accuracy * 100.0))"
   ]
  },
  {
   "cell_type": "code",
   "execution_count": 12,
   "metadata": {},
   "outputs": [
    {
     "name": "stdout",
     "output_type": "stream",
     "text": [
      "SVM Validation Accuracy: 84.96%\n"
     ]
    }
   ],
   "source": [
    "svm_valid_predict = model_svm.predict(X_res)\n",
    "svm_valid_predict = [round(value) for value in svm_valid_predict]\n",
    "svm_valid_accuracy = accuracy_score(y_res, svm_valid_predict)\n",
    "print(\"SVM Validation Accuracy: %.2f%%\" % (svm_valid_accuracy * 100.0))"
   ]
  }
 ],
 "metadata": {
  "kernelspec": {
   "display_name": "Python 3",
   "language": "python",
   "name": "python3"
  },
  "language_info": {
   "codemirror_mode": {
    "name": "ipython",
    "version": 3
   },
   "file_extension": ".py",
   "mimetype": "text/x-python",
   "name": "python",
   "nbconvert_exporter": "python",
   "pygments_lexer": "ipython3",
   "version": "3.7.4"
  }
 },
 "nbformat": 4,
 "nbformat_minor": 2
}
